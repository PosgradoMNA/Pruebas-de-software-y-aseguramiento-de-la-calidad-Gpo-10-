{
  "nbformat": 4,
  "nbformat_minor": 0,
  "metadata": {
    "colab": {
      "provenance": [],
      "authorship_tag": "ABX9TyM3SdP0GEfYCw6UyZBfKwjs",
      "include_colab_link": true
    },
    "kernelspec": {
      "name": "python3",
      "display_name": "Python 3"
    },
    "language_info": {
      "name": "python"
    }
  },
  "cells": [
    {
      "cell_type": "markdown",
      "metadata": {
        "id": "view-in-github",
        "colab_type": "text"
      },
      "source": [
        "<a href=\"https://colab.research.google.com/github/PosgradoMNA/Pruebas-de-software-y-aseguramiento-de-la-calidad-Gpo-10-/blob/main/ComputeStatistics.ipynb\" target=\"_parent\"><img src=\"https://colab.research.google.com/assets/colab-badge.svg\" alt=\"Open In Colab\"/></a>"
      ]
    },
    {
      "cell_type": "code",
      "execution_count": null,
      "metadata": {
        "colab": {
          "base_uri": "https://localhost:8080/"
        },
        "id": "l-_HS0i91Jn-",
        "outputId": "9dba5242-87c6-4954-9336-fab0d9ea27ec"
      },
      "outputs": [
        {
          "output_type": "stream",
          "name": "stdout",
          "text": [
            "Requirement already satisfied: pylint in /usr/local/lib/python3.10/dist-packages (3.0.3)\n",
            "Requirement already satisfied: platformdirs>=2.2.0 in /usr/local/lib/python3.10/dist-packages (from pylint) (4.2.0)\n",
            "Requirement already satisfied: astroid<=3.1.0-dev0,>=3.0.1 in /usr/local/lib/python3.10/dist-packages (from pylint) (3.0.3)\n",
            "Requirement already satisfied: isort!=5.13.0,<6,>=4.2.5 in /usr/local/lib/python3.10/dist-packages (from pylint) (5.13.2)\n",
            "Requirement already satisfied: mccabe<0.8,>=0.6 in /usr/local/lib/python3.10/dist-packages (from pylint) (0.7.0)\n",
            "Requirement already satisfied: tomlkit>=0.10.1 in /usr/local/lib/python3.10/dist-packages (from pylint) (0.12.3)\n",
            "Requirement already satisfied: dill>=0.2 in /usr/local/lib/python3.10/dist-packages (from pylint) (0.3.8)\n",
            "Requirement already satisfied: tomli>=1.1.0 in /usr/local/lib/python3.10/dist-packages (from pylint) (2.0.1)\n",
            "Requirement already satisfied: typing-extensions>=4.0.0 in /usr/local/lib/python3.10/dist-packages (from astroid<=3.1.0-dev0,>=3.0.1->pylint) (4.5.0)\n"
          ]
        }
      ],
      "source": [
        "pip install pylint"
      ]
    },
    {
      "cell_type": "code",
      "source": [
        "import time\n",
        "\n",
        "# Método para leer el archivo con datos\n",
        "def leer_archivo(nombre_archivo):\n",
        "    try:\n",
        "        with open(nombre_archivo, 'r') as archivo:\n",
        "            datos = [float(linea.strip()) for linea in archivo.readlines()]\n",
        "        return datos\n",
        "    except FileNotFoundError:\n",
        "        print(f\"Error: El archivo '{nombre_archivo}' no fue encontrado.\")\n",
        "        return None\n",
        "    except ValueError:\n",
        "        print(f\"Error: El archivo '{nombre_archivo}' contiene datos no válidos.\")\n",
        "        return None\n",
        "\n",
        "# Función para calcular el conteo de los datos\n",
        "def calcular_conteo(datos):\n",
        "    conteo = 0\n",
        "    for dato in datos:\n",
        "        conteo = conteo + 1\n",
        "    return conteo\n",
        "\n",
        "# Función para calcular la media de los datos\n",
        "def calcular_media(datos):\n",
        "    return sum(datos) / len(datos)\n",
        "\n",
        "# Función para calcular la mediana de los datos\n",
        "def calcular_mediana(datos):\n",
        "    datos_ordenados = sorted(datos)\n",
        "    n = len(datos_ordenados)\n",
        "    if n % 2 == 0:\n",
        "        return (datos_ordenados[n//2 - 1] + datos_ordenados[n//2]) / 2\n",
        "    else:\n",
        "        return datos_ordenados[n//2]\n",
        "\n",
        "# Función para calcular la moda de los datos\n",
        "def calcular_moda(datos):\n",
        "    conteo = {}\n",
        "    for dato in datos:\n",
        "        conteo[dato] = conteo.get(dato, 0) + 1\n",
        "    moda = [clave for clave, valor in conteo.items() if valor == max(conteo.values())]\n",
        "    return moda\n",
        "\n",
        "# Función para calcular la desviación estándar de los datos\n",
        "def calcular_desviacion_estandar(datos, media):\n",
        "    suma_cuadrados = sum((dato - media)**2 for dato in datos)\n",
        "    varianza = suma_cuadrados / len(datos)\n",
        "    return varianza**0.5\n",
        "\n",
        "# Método para los resultados\n",
        "def guardar_resultados(resultados, tiempo_transcurrido):\n",
        "    with open(\"ComputeStatisticsResults.txt\", 'w') as archivo:\n",
        "        for clave, valor in resultados.items():\n",
        "            archivo.write(f\"{clave}: {valor}\\n\")\n",
        "        archivo.write(f\"Tiempo transcurrido: {tiempo_transcurrido} segundos\\n\")\n",
        "\n",
        "# Método que calcula la estadísticas de todos los cálculos\n",
        "def calcular_estadisticas():\n",
        "    inicio = time.time()\n",
        "\n",
        "    # Ruta del archivo\n",
        "    ruta_archivo = '/content/sample_data/ComputeStatisticsResults.txt'\n",
        "\n",
        "    # Invoca el método leer archivo\n",
        "    datos = leer_archivo(ruta_archivo)\n",
        "    if datos is None:\n",
        "        return\n",
        "    # Llamado de las funciones que realiza los cálculos estadísticos\n",
        "    conteo = calcular_conteo(datos)\n",
        "    media = calcular_media(datos)\n",
        "    mediana = calcular_mediana(datos)\n",
        "    moda = calcular_moda(datos)\n",
        "    desviacion_estandar = calcular_desviacion_estandar(datos, media)\n",
        "\n",
        "    resultados = {\n",
        "        \"COUNT\": conteo,\n",
        "        \"MEAN\": media,\n",
        "        \"MEDIAN\": mediana,\n",
        "        \"MODE\": moda,\n",
        "        \"SD\": desviacion_estandar,\n",
        "        \"VARIANCE\": desviacion_estandar**2\n",
        "    }\n",
        "\n",
        "    fin = time.time()\n",
        "    tiempo_transcurrido = fin - inicio\n",
        "\n",
        "    # Sentencias que imprime los títulos y sus respectivos valores\n",
        "    print(\"TC\")\n",
        "    for clave, valor in resultados.items():\n",
        "        print(f\"{clave}: {valor}\")\n",
        "\n",
        "    print(f\"Tiempo transcurrido: {tiempo_transcurrido} segundos\")\n",
        "    guardar_resultados(resultados, tiempo_transcurrido)\n",
        "\n",
        "# Se invoca el método principal para la ejecución de los cálculos\n",
        "calcular_estadisticas()\n",
        "\n"
      ],
      "metadata": {
        "id": "7ko2Tu8IGplj",
        "colab": {
          "base_uri": "https://localhost:8080/"
        },
        "outputId": "75a21a37-3d4b-41f3-aa11-5450452c8fc9"
      },
      "execution_count": 3,
      "outputs": [
        {
          "output_type": "stream",
          "name": "stdout",
          "text": [
            "TC\n",
            "COUNT: 400\n",
            "MEAN: 242.32\n",
            "MEDIAN: 239.5\n",
            "MODE: [393.0, 170.0]\n",
            "SD: 145.25810683056557\n",
            "VARIANCE: 21099.917599999997\n",
            "Tiempo transcurrido: 0.001810312271118164 segundos\n"
          ]
        }
      ]
    }
  ]
}