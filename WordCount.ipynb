{
  "nbformat": 4,
  "nbformat_minor": 0,
  "metadata": {
    "colab": {
      "provenance": [],
      "authorship_tag": "ABX9TyOx0zSPGT09zrUhp2wo7LFB",
      "include_colab_link": true
    },
    "kernelspec": {
      "name": "python3",
      "display_name": "Python 3"
    },
    "language_info": {
      "name": "python"
    }
  },
  "cells": [
    {
      "cell_type": "markdown",
      "metadata": {
        "id": "view-in-github",
        "colab_type": "text"
      },
      "source": [
        "<a href=\"https://colab.research.google.com/github/PosgradoMNA/Pruebas-de-software-y-aseguramiento-de-la-calidad-Gpo-10-/blob/main/WordCount.ipynb\" target=\"_parent\"><img src=\"https://colab.research.google.com/assets/colab-badge.svg\" alt=\"Open In Colab\"/></a>"
      ]
    },
    {
      "cell_type": "code",
      "execution_count": 10,
      "metadata": {
        "colab": {
          "base_uri": "https://localhost:8080/"
        },
        "id": "l-_HS0i91Jn-",
        "outputId": "89b737c6-a1dd-41d8-b410-12aa5880cb03"
      },
      "outputs": [
        {
          "output_type": "stream",
          "name": "stdout",
          "text": [
            "Requirement already satisfied: pylint in /usr/local/lib/python3.10/dist-packages (3.0.3)\n",
            "Requirement already satisfied: platformdirs>=2.2.0 in /usr/local/lib/python3.10/dist-packages (from pylint) (4.2.0)\n",
            "Requirement already satisfied: astroid<=3.1.0-dev0,>=3.0.1 in /usr/local/lib/python3.10/dist-packages (from pylint) (3.0.3)\n",
            "Requirement already satisfied: isort!=5.13.0,<6,>=4.2.5 in /usr/local/lib/python3.10/dist-packages (from pylint) (5.13.2)\n",
            "Requirement already satisfied: mccabe<0.8,>=0.6 in /usr/local/lib/python3.10/dist-packages (from pylint) (0.7.0)\n",
            "Requirement already satisfied: tomlkit>=0.10.1 in /usr/local/lib/python3.10/dist-packages (from pylint) (0.12.3)\n",
            "Requirement already satisfied: dill>=0.2 in /usr/local/lib/python3.10/dist-packages (from pylint) (0.3.8)\n",
            "Requirement already satisfied: tomli>=1.1.0 in /usr/local/lib/python3.10/dist-packages (from pylint) (2.0.1)\n",
            "Requirement already satisfied: typing-extensions>=4.0.0 in /usr/local/lib/python3.10/dist-packages (from astroid<=3.1.0-dev0,>=3.0.1->pylint) (4.5.0)\n"
          ]
        }
      ],
      "source": [
        "pip install pylint"
      ]
    },
    {
      "cell_type": "code",
      "source": [
        "import sys\n",
        "import time\n",
        "\n",
        "def word_count(file_path):\n",
        "    try:\n",
        "        start_time = time.time()\n",
        "\n",
        "        word_frequency = {}\n",
        "        with open(file_path, 'r') as file:\n",
        "            for line in file:\n",
        "                words = line.split()\n",
        "                for word in words:\n",
        "                    cleaned_word = word.strip().lower()\n",
        "                    if cleaned_word.isalpha():  # Verifica si la palabra contiene solo letras\n",
        "                        word_frequency[cleaned_word] = word_frequency.get(cleaned_word, 0) + 1\n",
        "\n",
        "        end_time = time.time()\n",
        "\n",
        "        print(\"Word frequency:\")\n",
        "        for word, count in word_frequency.items():\n",
        "            print(f\"{word}: {count}\")\n",
        "\n",
        "        with open('/content/sample_data/WordCountResults.txt', 'w') as result_file:\n",
        "            result_file.write(\"Word frequency:\\n\")\n",
        "            for word, count in word_frequency.items():\n",
        "                result_file.write(f\"{word}: {count}\\n\")\n",
        "\n",
        "        elapsed_time = end_time - start_time\n",
        "        print(f\"\\nExecution time: {elapsed_time} seconds\")\n",
        "        with open('/content/sample_data/WordCountResults.txt', 'a') as result_file:\n",
        "            result_file.write(f\"\\nExecution time: {elapsed_time} seconds\\n\")\n",
        "\n",
        "    except Exception as e:\n",
        "        print(f\"Error: {e}\")\n",
        "\n",
        "\n"
      ],
      "metadata": {
        "id": "zIthdlyk45my"
      },
      "execution_count": 17,
      "outputs": []
    }
  ]
}